{
 "cells": [
  {
   "cell_type": "code",
   "execution_count": 1,
   "metadata": {},
   "outputs": [],
   "source": [
    "from selenium import webdriver\n",
    "import time \n",
    "from prop_name import prop_name\n",
    "from selenium.webdriver.common.keys import Keys\n",
    "import login\n",
    "import bleach\n",
    "import pandas as pd\n",
    "from bs4 import BeautifulSoup\n",
    "import pandas as pd\n",
    "import matplotlib.pyplot as plt\n",
    "from io import StringIO\n",
    "from datetime import datetime as dt\n",
    "from dateutil.relativedelta import relativedelta\n",
    "from statistics import mean "
   ]
  },
  {
   "cell_type": "code",
   "execution_count": 59,
   "metadata": {},
   "outputs": [
    {
     "name": "stdout",
     "output_type": "stream",
     "text": [
      "Enter Propery Abbreviation: AC\n"
     ]
    },
    {
     "name": "stderr",
     "output_type": "stream",
     "text": [
      "C:\\Users\\WMF XV\\Documents\\Anaconda\\lib\\site-packages\\ipykernel_launcher.py:18: DeprecationWarning: use driver.switch_to.window instead\n",
      "C:\\Users\\WMF XV\\Documents\\Anaconda\\lib\\site-packages\\ipykernel_launcher.py:26: DeprecationWarning: use driver.switch_to.window instead\n"
     ]
    },
    {
     "name": "stdout",
     "output_type": "stream",
     "text": [
      "Autumn Creek Apartments\t\t\t\t\t\t\t\t\t\t\t\t\t\n",
      "Wehner\t\t\t\t\t\t\t\t\t\t\t\t\t\n",
      "Twelve Month Occupancy Trend\t\t\t\t\t\t\t\t\t\t\t\t\t\n",
      "Printed 7/15/2019 4:24:13 PM\t\t\t\t\t\t\t\t\t\t\t\t\t\n",
      "\tAug 18\tSep 18\tOct 18\tNov 18\tDec 18\tJan 19\tFeb 19\tMar 19\tApr 19\tMay 19\tJun 19\tJul 19\tAverage\n",
      "Beginning Occupied Units\t80\t78\t79\t77\t80\t79\t80\t80\t80\t80\t80\t78\t79\n",
      "Move Ins\t1\t2\t1\t4\t0\t1\t0\t1\t1\t2\t0\t1\t1\n",
      "Move Outs\t3\t1\t3\t1\t1\t0\t0\t1\t1\t2\t2\t2\t1\n",
      "Transfer Offset*\t0\t0\t0\t0\t0\t0\t0\t0\t0\t0\t0\t0\t0\n",
      "Ending Occupied Units\t78\t79\t77\t80\t79\t80\t80\t80\t80\t80\t78\t77\t79\n",
      "Vacant Units\t3\t2\t4\t1\t2\t1\t1\t1\t1\t1\t3\t4\t2\n",
      "Transfers\t0\t0\t0\t0\t0\t0\t0\t0\t0\t0\t0\t0\t0\n",
      "\t\t\t\t\t\t\t\t\t\t\t\t\t\n",
      "Occupancy\t96.30 %\t97.53 %\t95.06 %\t98.77 %\t97.53 %\t98.77 %\t98.77 %\t98.77 %\t98.77 %\t98.77 %\t96.30 %\t95.06 %\t97.53 %\n",
      "Vacancy\t3.70 %\t2.47 %\t4.94 %\t1.23 %\t2.47 %\t1.23 %\t1.23 %\t1.23 %\t1.23 %\t1.23 %\t3.70 %\t4.94 %\t2.47 %\n",
      "\t\t\t\t\t\t\t\t\t\t\t\t\t\n",
      "*Accounts for transfers where the move out and move in date do not occur in the same month\t\t\t\t\t\t\t\t\t\t\t\t\t\n"
     ]
    }
   ],
   "source": [
    "driver = webdriver.Chrome('C:\\\\Users\\\\WMF XV\\\\Downloads\\\\chromedriver_win32\\\\chromedriver.exe')\n",
    "driver.get('https://wehner.myresman.com/Access/SignIn')\n",
    "driver.find_element_by_xpath('//*[@id=\"Username\"]').send_keys(login.Username) #login\n",
    "time.sleep(0.5)\n",
    "driver.find_element_by_id('Password').send_keys(login.Password) \n",
    "driver.find_element_by_id('SignInButton').click()\n",
    "time.sleep(3)\n",
    "\n",
    "prop_id = prop_name.get( input('Enter Propery Abbreviation: ') , 'none')\n",
    "html_code = '/html/body/ul[4]/li[' + str(prop_id) + ']'\n",
    "driver.find_element_by_xpath('//*[@id=\"PropertyOrGroupIDInputButton\"]').click()\n",
    "driver.find_element_by_xpath(html_code).click()\n",
    "driver.find_element_by_id('Go').click()\n",
    "\n",
    "occ_trend = driver.execute_script(\"window.open('https://wehner.myresman.com/Reports/TwelveMonthOccupancyTrend', 'new_window')\")\n",
    "occ_trend\n",
    "\n",
    "driver.switch_to_window(driver.window_handles[1])\n",
    "time.sleep(6)\n",
    "driver.find_element_by_xpath('/html/body/div[4]/div[3]/div[2]/button[1]').click()\n",
    "time.sleep(4)\n",
    "driver.find_element_by_xpath('//*[@id=\"ToolBar_Menu_ITCNT5_SaveFormat_B-1\"]').click()\n",
    "time.sleep(0.5)\n",
    "driver.find_element_by_xpath('//*[@id=\"ToolBar_Menu_ITCNT5_SaveFormat_DDD_L_LBI6T0\"]').click()\n",
    "driver.find_element_by_xpath('//*[@id=\"ToolBar_Menu_DXI4_\"]').click()\n",
    "driver.switch_to_window(driver.window_handles[2])\n",
    "time.sleep(1)\n",
    "report = driver.page_source\n",
    "soup = BeautifulSoup(report, 'html.parser')\n",
    "soup.prettify()\n",
    "str_table = str(soup.pre)\n",
    "clean = bleach.clean(str_table, tags=[], strip=True)\n",
    "\n",
    "f = StringIO(clean)\n",
    "reader = csv.reader(f, delimiter=',')\n",
    "for row in reader:\n",
    "    print('\\t'.join(row))\n",
    "\n",
    "driver.quit()"
   ]
  },
  {
   "cell_type": "code",
   "execution_count": 79,
   "metadata": {},
   "outputs": [
    {
     "data": {
      "text/plain": [
       "<_csv.reader at 0x214d7735048>"
      ]
     },
     "execution_count": 79,
     "metadata": {},
     "output_type": "execute_result"
    }
   ],
   "source": [
    "reader"
   ]
  },
  {
   "cell_type": "code",
   "execution_count": 77,
   "metadata": {},
   "outputs": [
    {
     "data": {
      "text/plain": [
       "'Autumn Creek Apartments,,,,,,,,,,,,,\\nWehner,,,,,,,,,,,,,\\nTwelve Month Occupancy Trend,,,,,,,,,,,,,\\nPrinted 7/15/2019 4:24:13 PM,,,,,,,,,,,,,\\n,Aug 18,Sep 18,Oct 18,Nov 18,Dec 18,Jan 19,Feb 19,Mar 19,Apr 19,May 19,Jun 19,Jul 19,Average\\nBeginning Occupied Units,80,78,79,77,80,79,80,80,80,80,80,78,79\\nMove Ins,1,2,1,4,0,1,0,1,1,2,0,1,1\\nMove Outs,3,1,3,1,1,0,0,1,1,2,2,2,1\\nTransfer Offset*,0,0,0,0,0,0,0,0,0,0,0,0,0\\nEnding Occupied Units,78,79,77,80,79,80,80,80,80,80,78,77,79\\nVacant Units,3,2,4,1,2,1,1,1,1,1,3,4,2\\nTransfers,0,0,0,0,0,0,0,0,0,0,0,0,0\\n,,,,,,,,,,,,,\\nOccupancy,96.30 %,97.53 %,95.06 %,98.77 %,97.53 %,98.77 %,98.77 %,98.77 %,98.77 %,98.77 %,96.30 %,95.06 %,97.53 %\\nVacancy,3.70 %,2.47 %,4.94 %,1.23 %,2.47 %,1.23 %,1.23 %,1.23 %,1.23 %,1.23 %,3.70 %,4.94 %,2.47 %\\n,,,,,,,,,,,,,\\n*Accounts for transfers where the move out and move in date do not occur in the same month,,,,,,,,,,,,,\\n'"
      ]
     },
     "execution_count": 77,
     "metadata": {},
     "output_type": "execute_result"
    }
   ],
   "source": [
    "clean"
   ]
  },
  {
   "cell_type": "code",
   "execution_count": 184,
   "metadata": {},
   "outputs": [
    {
     "data": {
      "text/plain": [
       "['Autumn Creek Apartments\\t\\t\\t\\t\\t\\t\\t\\t\\t\\t\\t\\t\\t',\n",
       " 'Wehner\\t\\t\\t\\t\\t\\t\\t\\t\\t\\t\\t\\t\\t',\n",
       " 'Twelve Month Occupancy Trend\\t\\t\\t\\t\\t\\t\\t\\t\\t\\t\\t\\t\\t',\n",
       " 'Printed 7/15/2019 4:24:13 PM\\t\\t\\t\\t\\t\\t\\t\\t\\t\\t\\t\\t\\t',\n",
       " '\\tAug 18\\tSep 18\\tOct 18\\tNov 18\\tDec 18\\tJan 19\\tFeb 19\\tMar 19\\tApr 19\\tMay 19\\tJun 19\\tJul 19\\tAverage',\n",
       " 'Beginning Occupied Units\\t80\\t78\\t79\\t77\\t80\\t79\\t80\\t80\\t80\\t80\\t80\\t78\\t79',\n",
       " 'Move Ins\\t1\\t2\\t1\\t4\\t0\\t1\\t0\\t1\\t1\\t2\\t0\\t1\\t1',\n",
       " 'Move Outs\\t3\\t1\\t3\\t1\\t1\\t0\\t0\\t1\\t1\\t2\\t2\\t2\\t1',\n",
       " 'Transfer Offset*\\t0\\t0\\t0\\t0\\t0\\t0\\t0\\t0\\t0\\t0\\t0\\t0\\t0',\n",
       " 'Ending Occupied Units\\t78\\t79\\t77\\t80\\t79\\t80\\t80\\t80\\t80\\t80\\t78\\t77\\t79',\n",
       " 'Vacant Units\\t3\\t2\\t4\\t1\\t2\\t1\\t1\\t1\\t1\\t1\\t3\\t4\\t2',\n",
       " 'Transfers\\t0\\t0\\t0\\t0\\t0\\t0\\t0\\t0\\t0\\t0\\t0\\t0\\t0',\n",
       " '\\t\\t\\t\\t\\t\\t\\t\\t\\t\\t\\t\\t\\t',\n",
       " 'Occupancy\\t96.30 %\\t97.53 %\\t95.06 %\\t98.77 %\\t97.53 %\\t98.77 %\\t98.77 %\\t98.77 %\\t98.77 %\\t98.77 %\\t96.30 %\\t95.06 %\\t97.53 %',\n",
       " 'Vacancy\\t3.70 %\\t2.47 %\\t4.94 %\\t1.23 %\\t2.47 %\\t1.23 %\\t1.23 %\\t1.23 %\\t1.23 %\\t1.23 %\\t3.70 %\\t4.94 %\\t2.47 %',\n",
       " '\\t\\t\\t\\t\\t\\t\\t\\t\\t\\t\\t\\t\\t',\n",
       " '*Accounts for transfers where the move out and move in date do not occur in the same month\\t\\t\\t\\t\\t\\t\\t\\t\\t\\t\\t\\t\\t']"
      ]
     },
     "execution_count": 184,
     "metadata": {},
     "output_type": "execute_result"
    }
   ],
   "source": [
    "list = []\n",
    "f = StringIO(clean)\n",
    "reader = csv.reader(f, delimiter=',')\n",
    "for row in reader:\n",
    "    list.append('\\t'.join(row))\n",
    "    \n",
    "list"
   ]
  },
  {
   "cell_type": "code",
   "execution_count": 94,
   "metadata": {},
   "outputs": [
    {
     "name": "stdout",
     "output_type": "stream",
     "text": [
      "Move Outs\t3\t1\t3\t1\t1\t0\t0\t1\t1\t2\t2\t2\t1\n"
     ]
    },
    {
     "data": {
      "text/plain": [
       "'Move Outs\\t3\\t1\\t3\\t1\\t1\\t0\\t0\\t1\\t1\\t2\\t2\\t2\\t1'"
      ]
     },
     "execution_count": 94,
     "metadata": {},
     "output_type": "execute_result"
    }
   ],
   "source": [
    "print(list[7])\n",
    "list[7]"
   ]
  },
  {
   "cell_type": "code",
   "execution_count": 97,
   "metadata": {
    "scrolled": true
   },
   "outputs": [
    {
     "data": {
      "text/plain": [
       "['Autumn Creek Apartments             ',\n",
       " 'Wehner             ',\n",
       " 'Twelve Month Occupancy Trend             ',\n",
       " 'Printed 7/15/2019 4:24:13 PM             ',\n",
       " ' Aug 18 Sep 18 Oct 18 Nov 18 Dec 18 Jan 19 Feb 19 Mar 19 Apr 19 May 19 Jun 19 Jul 19 Average',\n",
       " 'Beginning Occupied Units 80 78 79 77 80 79 80 80 80 80 80 78 79',\n",
       " 'Move Ins 1 2 1 4 0 1 0 1 1 2 0 1 1',\n",
       " 'Move Outs 3 1 3 1 1 0 0 1 1 2 2 2 1',\n",
       " 'Transfer Offset* 0 0 0 0 0 0 0 0 0 0 0 0 0',\n",
       " 'Ending Occupied Units 78 79 77 80 79 80 80 80 80 80 78 77 79',\n",
       " 'Vacant Units 3 2 4 1 2 1 1 1 1 1 3 4 2',\n",
       " 'Transfers 0 0 0 0 0 0 0 0 0 0 0 0 0',\n",
       " '             ',\n",
       " 'Occupancy 96.30 % 97.53 % 95.06 % 98.77 % 97.53 % 98.77 % 98.77 % 98.77 % 98.77 % 98.77 % 96.30 % 95.06 % 97.53 %',\n",
       " 'Vacancy 3.70 % 2.47 % 4.94 % 1.23 % 2.47 % 1.23 % 1.23 % 1.23 % 1.23 % 1.23 % 3.70 % 4.94 % 2.47 %',\n",
       " '             ',\n",
       " '*Accounts for transfers where the move out and move in date do not occur in the same month             ']"
      ]
     },
     "execution_count": 97,
     "metadata": {},
     "output_type": "execute_result"
    }
   ],
   "source": [
    "list2 = [w.replace('\\t', ' ') for w in list]\n",
    "list2"
   ]
  },
  {
   "cell_type": "code",
   "execution_count": 155,
   "metadata": {},
   "outputs": [
    {
     "data": {
      "text/plain": [
       "['3', '1', '3', '1', '1', '0', '0', '1', '1', '2', '2']"
      ]
     },
     "execution_count": 155,
     "metadata": {},
     "output_type": "execute_result"
    }
   ],
   "source": [
    "move_outs = list2[7]\n",
    "move_outs_num = move_outs[10:32]\n",
    "move_outs_num.split()\n"
   ]
  },
  {
   "cell_type": "markdown",
   "metadata": {},
   "source": [
    "# Move-outs in the last 11 months"
   ]
  },
  {
   "cell_type": "code",
   "execution_count": 156,
   "metadata": {
    "scrolled": true
   },
   "outputs": [
    {
     "data": {
      "text/plain": [
       "[3, 1, 3, 1, 1, 0, 0, 1, 1, 2, 2]"
      ]
     },
     "execution_count": 156,
     "metadata": {},
     "output_type": "execute_result"
    }
   ],
   "source": [
    "list3 = [int(i) for i in move_outs_num.split()]\n",
    "list3"
   ]
  },
  {
   "cell_type": "code",
   "execution_count": 161,
   "metadata": {},
   "outputs": [
    {
     "name": "stdout",
     "output_type": "stream",
     "text": [
      "Average move-out per month = 1.36\n"
     ]
    }
   ],
   "source": [
    "def Average(lst): \n",
    "    return mean(lst) \n",
    "\n",
    "average = Average(list3) \n",
    "print(\"Average move-out per month =\", round(average, 2)) "
   ]
  },
  {
   "cell_type": "code",
   "execution_count": 173,
   "metadata": {},
   "outputs": [
    {
     "name": "stdout",
     "output_type": "stream",
     "text": [
      "Average move-out per year: 14.96\n"
     ]
    }
   ],
   "source": [
    "avg_mo_year = round(average, 2)\n",
    "print('Average move-out per year:', avg_mo_year * 11)"
   ]
  },
  {
   "cell_type": "markdown",
   "metadata": {},
   "source": [
    "# Grap the units # from property"
   ]
  },
  {
   "cell_type": "code",
   "execution_count": 175,
   "metadata": {},
   "outputs": [
    {
     "name": "stdout",
     "output_type": "stream",
     "text": [
      "Enter Propery Abbreviation: AC\n",
      "81\n"
     ]
    }
   ],
   "source": [
    "driver = webdriver.Chrome('C:\\\\Users\\\\WMF XV\\\\Downloads\\\\chromedriver_win32\\\\chromedriver.exe')\n",
    "driver.get('https://wehner.myresman.com/Access/SignIn')\n",
    "driver.find_element_by_xpath('//*[@id=\"Username\"]').send_keys(login.Username) #login\n",
    "time.sleep(0.5)\n",
    "driver.find_element_by_id('Password').send_keys(login.Password) \n",
    "driver.find_element_by_id('SignInButton').click()\n",
    "time.sleep(3)\n",
    "\n",
    "prop_id = prop_name.get( input('Enter Propery Abbreviation: ') , 'none')\n",
    "html_code = '/html/body/ul[4]/li[' + str(prop_id) + ']'\n",
    "driver.find_element_by_xpath('//*[@id=\"PropertyOrGroupIDInputButton\"]').click()\n",
    "driver.find_element_by_xpath(html_code).click()\n",
    "driver.find_element_by_id('Go').click()\n",
    "time.sleep(1)\n",
    "driver.find_element_by_xpath('//*[@id=\"PropertySummary\"]/div[1]').click()\n",
    "time.sleep(3)\n",
    "units = driver.find_element_by_xpath('//*[@id=\"Data\"]/tbody/tr[1]/td').text\n",
    "float(units)\n",
    "print('Property units:', units)"
   ]
  },
  {
   "cell_type": "markdown",
   "metadata": {},
   "source": [
    "# Turn Over Rate! $$ \\frac{Avg. MoveOuts. per Month * Num. of Months}{Num. of Units }$$"
   ]
  },
  {
   "cell_type": "code",
   "execution_count": 183,
   "metadata": {},
   "outputs": [
    {
     "data": {
      "text/plain": [
       "18.469135802469136"
      ]
     },
     "execution_count": 183,
     "metadata": {},
     "output_type": "execute_result"
    }
   ],
   "source": [
    "from __future__ import division\n",
    "to_rate = avg_mo_year * 11 / float(units)\n",
    "to_rate * 100"
   ]
  },
  {
   "cell_type": "code",
   "execution_count": null,
   "metadata": {},
   "outputs": [],
   "source": []
  }
 ],
 "metadata": {
  "kernelspec": {
   "display_name": "Python 3",
   "language": "python",
   "name": "python3"
  },
  "language_info": {
   "codemirror_mode": {
    "name": "ipython",
    "version": 3
   },
   "file_extension": ".py",
   "mimetype": "text/x-python",
   "name": "python",
   "nbconvert_exporter": "python",
   "pygments_lexer": "ipython3",
   "version": "3.7.1"
  }
 },
 "nbformat": 4,
 "nbformat_minor": 2
}
